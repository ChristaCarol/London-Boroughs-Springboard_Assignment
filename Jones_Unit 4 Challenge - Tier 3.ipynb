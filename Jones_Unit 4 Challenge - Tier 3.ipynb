{
 "cells": [
  {
   "cell_type": "markdown",
   "metadata": {
    "colab_type": "text",
    "id": "Tia3MP1SJpgj"
   },
   "source": [
    "# Springboard Data Science Career Track Unit 4 Challenge - Tier 3 Complete\n",
    "\n",
    "## Objectives\n",
    "Hey! Great job getting through those challenging DataCamp courses. You're learning a lot in a short span of time. \n",
    "\n",
    "In this notebook, you're going to apply the skills you've been learning, bridging the gap between the controlled environment of DataCamp and the *slightly* messier work that data scientists do with actual datasets!\n",
    "\n",
    "Here’s the mystery we’re going to solve: ***which boroughs of London have seen the greatest increase in housing prices, on average, over the last two decades?***\n",
    "\n",
    "\n",
    "A borough is just a fancy word for district. You may be familiar with the five boroughs of New York… well, there are 32 boroughs within Greater London [(here's some info for the curious)](https://en.wikipedia.org/wiki/London_boroughs). Some of them are more desirable areas to live in, and the data will reflect that with a greater rise in housing prices.\n",
    "\n",
    "***This is the Tier 3 notebook, which means it's not filled in at all: we'll just give you the skeleton of a project, the brief and the data. It's up to you to play around with it and see what you can find out! Good luck! If you struggle, feel free to look at easier tiers for help; but try to dip in and out of them, as the more independent work you do, the better it is for your learning!***\n",
    "\n",
    "This challenge will make use of only what you learned in the following DataCamp courses: \n",
    "- Prework courses (Introduction to Python for Data Science, Intermediate Python for Data Science)\n",
    "- Data Types for Data Science\n",
    "- Python Data Science Toolbox (Part One) \n",
    "- pandas Foundations\n",
    "- Manipulating DataFrames with pandas\n",
    "- Merging DataFrames with pandas\n",
    "\n",
    "Of the tools, techniques and concepts in the above DataCamp courses, this challenge should require the application of the following: \n",
    "- **pandas**\n",
    "    - **data ingestion and inspection** (pandas Foundations, Module One) \n",
    "    - **exploratory data analysis** (pandas Foundations, Module Two)\n",
    "    - **tidying and cleaning** (Manipulating DataFrames with pandas, Module Three) \n",
    "    - **transforming DataFrames** (Manipulating DataFrames with pandas, Module One)\n",
    "    - **subsetting DataFrames with lists** (Manipulating DataFrames with pandas, Module One) \n",
    "    - **filtering DataFrames** (Manipulating DataFrames with pandas, Module One) \n",
    "    - **grouping data** (Manipulating DataFrames with pandas, Module Four) \n",
    "    - **melting data** (Manipulating DataFrames with pandas, Module Three) \n",
    "    - **advanced indexing** (Manipulating DataFrames with pandas, Module Four) \n",
    "- **matplotlib** (Intermediate Python for Data Science, Module One)\n",
    "- **fundamental data types** (Data Types for Data Science, Module One) \n",
    "- **dictionaries** (Intermediate Python for Data Science, Module Two)\n",
    "- **handling dates and times** (Data Types for Data Science, Module Four)\n",
    "- **function definition** (Python Data Science Toolbox - Part One, Module One)\n",
    "- **default arguments, variable length, and scope** (Python Data Science Toolbox - Part One, Module Two) \n",
    "- **lambda functions and error handling** (Python Data Science Toolbox - Part One, Module Four) "
   ]
  },
  {
   "cell_type": "markdown",
   "metadata": {
    "colab_type": "text",
    "id": "Ipgd2nV8Jpgl"
   },
   "source": [
    "## The Data Science Pipeline\n",
    "\n",
    "This is Tier Three, so we'll get you started. But after that, it's all in your hands! When you feel done with your investigations, look back over what you've accomplished, and prepare a quick presentation of your findings for the next mentor meeting. \n",
    "\n",
    "Data Science is magical. In this case study, you'll get to apply some complex machine learning algorithms. But as  [David Spiegelhalter](https://www.youtube.com/watch?v=oUs1uvsz0Ok) reminds us, there is no substitute for simply **taking a really, really good look at the data.** Sometimes, this is all we need to answer our question.\n",
    "\n",
    "Data Science projects generally adhere to the four stages of Data Science Pipeline:\n",
    "1. Sourcing and loading \n",
    "2. Cleaning, transforming, and visualizing \n",
    "3. Modeling \n",
    "4. Evaluating and concluding \n"
   ]
  },
  {
   "cell_type": "markdown",
   "metadata": {
    "colab_type": "text",
    "id": "zswDqbefJpgm"
   },
   "source": [
    "### 1. Sourcing and Loading \n",
    "\n",
    "Any Data Science project kicks off by importing  ***pandas***. The documentation of this wonderful library can be found [here](https://pandas.pydata.org/). As you've seen, pandas is conveniently connected to the [Numpy](http://www.numpy.org/) and [Matplotlib](https://matplotlib.org/) libraries. \n",
    "\n",
    "***Hint:*** This part of the data science pipeline will test those skills you acquired in the pandas Foundations course, Module One. "
   ]
  },
  {
   "cell_type": "markdown",
   "metadata": {
    "colab_type": "text",
    "id": "aEau5nEvJpgm"
   },
   "source": [
    "#### 1.1. Importing Libraries"
   ]
  },
  {
   "cell_type": "code",
   "execution_count": 1,
   "metadata": {
    "colab": {},
    "colab_type": "code",
    "id": "7Bt_Q_oPJpgn"
   },
   "outputs": [],
   "source": [
    "# Let's import the pandas, numpy libraries as pd, and np respectively. \n",
    "import pandas as pd\n",
    "import numpy as np\n",
    "\n",
    "# Load the pyplot collection of functions from matplotlib, as plt \n",
    "import matplotlib.pyplot as plt"
   ]
  },
  {
   "cell_type": "markdown",
   "metadata": {
    "colab_type": "text",
    "id": "koUrawxsJpgq"
   },
   "source": [
    "#### 1.2.  Loading the data\n",
    "Your data comes from the [London Datastore](https://data.london.gov.uk/): a free, open-source data-sharing portal for London-oriented datasets. "
   ]
  },
  {
   "cell_type": "code",
   "execution_count": 2,
   "metadata": {
    "colab": {},
    "colab_type": "code",
    "id": "AiLiD4v3Jpgr"
   },
   "outputs": [],
   "source": [
    "# First, make a variable called url_LondonHousePrices, and assign it the following link, enclosed in quotation-marks as a string:\n",
    "# https://data.london.gov.uk/download/uk-house-price-index/70ac0766-8902-4eb5-aab5-01951aaed773/UK%20House%20price%20index.xls\n",
    "\n",
    "url_LondonHousePrices = \"https://data.london.gov.uk/download/uk-house-price-index/70ac0766-8902-4eb5-aab5-01951aaed773/UK%20House%20price%20index.xls\"\n",
    "\n",
    "# The dataset we're interested in contains the Average prices of the houses, and is actually on a particular sheet of the Excel file. \n",
    "# As a result, we need to specify the sheet name in the read_excel() method.\n",
    "# Put this data into a variable called properties.  \n",
    "properties = pd.read_excel(url_LondonHousePrices, sheet_name='Average price', index_col= None)"
   ]
  },
  {
   "cell_type": "markdown",
   "metadata": {
    "colab_type": "text",
    "id": "POukEJXgJpgu"
   },
   "source": [
    "### 2. Cleaning, transforming, and visualizing\n",
    "This second stage is arguably the most important part of any Data Science project. The first thing to do is take a proper look at the data. Cleaning forms the majority of this stage, and can be done both before or after Transformation.\n",
    "\n",
    "The end goal of data cleaning is to have tidy data. When data is tidy: \n",
    "\n",
    "1. Each variable has a column.\n",
    "2. Each observation forms a row.\n",
    "\n",
    "Keep the end goal in mind as you move through this process, every step will take you closer. \n",
    "\n",
    "\n",
    "\n",
    "***Hint:*** This part of the data science pipeline should test those skills you acquired in: \n",
    "- Intermediate Python for data science, all modules.\n",
    "- pandas Foundations, all modules. \n",
    "- Manipulating DataFrames with pandas, all modules.\n",
    "- Data Types for Data Science, Module Four.\n",
    "- Python Data Science Toolbox - Part One, all modules"
   ]
  },
  {
   "cell_type": "markdown",
   "metadata": {
    "colab_type": "text",
    "id": "Te0Q548tnzZa"
   },
   "source": [
    "**2.1. Exploring your data** \n",
    "\n",
    "Think about your pandas functions for checking out a dataframe. "
   ]
  },
  {
   "cell_type": "code",
   "execution_count": 3,
   "metadata": {
    "colab": {},
    "colab_type": "code",
    "id": "Rxirxw_qoAJa"
   },
   "outputs": [
    {
     "name": "stdout",
     "output_type": "stream",
     "text": [
      "Index(['Unnamed: 0', 'City of London', 'Barking & Dagenham', 'Barnet',\n",
      "       'Bexley', 'Brent', 'Bromley', 'Camden', 'Croydon', 'Ealing', 'Enfield',\n",
      "       'Greenwich', 'Hackney', 'Hammersmith & Fulham', 'Haringey', 'Harrow',\n",
      "       'Havering', 'Hillingdon', 'Hounslow', 'Islington',\n",
      "       'Kensington & Chelsea', 'Kingston upon Thames', 'Lambeth', 'Lewisham',\n",
      "       'Merton', 'Newham', 'Redbridge', 'Richmond upon Thames', 'Southwark',\n",
      "       'Sutton', 'Tower Hamlets', 'Waltham Forest', 'Wandsworth',\n",
      "       'Westminster', 'Unnamed: 34', 'Inner London', 'Outer London',\n",
      "       'Unnamed: 37', 'NORTH EAST', 'NORTH WEST', 'YORKS & THE HUMBER',\n",
      "       'EAST MIDLANDS', 'WEST MIDLANDS', 'EAST OF ENGLAND', 'LONDON',\n",
      "       'SOUTH EAST', 'SOUTH WEST', 'Unnamed: 47', 'England'],\n",
      "      dtype='object')\n",
      "  Unnamed: 0 City of London Barking & Dagenham       Barnet       Bexley  \\\n",
      "0        NaT      E09000001          E09000002    E09000003    E09000004   \n",
      "1 1995-01-01    91448.98487         50460.2266  93284.51832  64958.09036   \n",
      "2 1995-02-01    82202.77314        51085.77983  93190.16963  64787.92069   \n",
      "3 1995-03-01    79120.70256        51268.96956  92247.52435  64367.49344   \n",
      "4 1995-04-01    77101.20804        53133.50526  90762.87492  64277.66881   \n",
      "\n",
      "         Brent      Bromley       Camden      Croydon       Ealing  ...  \\\n",
      "0    E09000005    E09000006    E09000007    E09000008    E09000009  ...   \n",
      "1  71306.56698  81671.47692  120932.8881  69158.16225  79885.89069  ...   \n",
      "2  72022.26197  81657.55944  119508.8622  68951.09542  80897.06551  ...   \n",
      "3  72015.76274  81449.31143  120282.2131  68712.44341  81379.86288  ...   \n",
      "4  72965.63094  81124.41227   120097.899  68610.04641  82188.90498  ...   \n",
      "\n",
      "    NORTH WEST YORKS & THE HUMBER EAST MIDLANDS WEST MIDLANDS EAST OF ENGLAND  \\\n",
      "0    E12000002          E12000003     E12000004     E12000005       E12000006   \n",
      "1  43958.48001        44803.42878   45544.52227   48527.52339      56701.5961   \n",
      "2  43925.42289        44528.80721   46051.57066   49341.29029     56593.59475   \n",
      "3   44434.8681        45200.46775   45383.82395   49442.17973     56171.18278   \n",
      "4   44267.7796        45614.34341   46124.23045   49455.93299     56567.89582   \n",
      "\n",
      "        LONDON   SOUTH EAST   SOUTH WEST Unnamed: 47      England  \n",
      "0    E12000007    E12000008    E12000009         NaN    E92000001  \n",
      "1  74435.76052  64018.87894   54705.1579         NaN  53202.77128  \n",
      "2  72777.93709  63715.02399  54356.14843         NaN   53096.1549  \n",
      "3  73896.84204  64113.60858  53583.07667         NaN   53201.2843  \n",
      "4  74455.28754  64623.22395  54786.01938         NaN   53590.8548  \n",
      "\n",
      "[5 rows x 49 columns]\n",
      "RangeIndex(start=0, stop=348, step=1)\n"
     ]
    }
   ],
   "source": [
    "print(properties.columns)\n",
    "print(properties.head())\n",
    "print(properties.index)"
   ]
  },
  {
   "cell_type": "markdown",
   "metadata": {
    "colab_type": "text",
    "id": "tE9Sqt9-oAta"
   },
   "source": [
    "**2.2. Cleaning the data**\n",
    "\n",
    "You might find you need to transpose your dataframe, check out what its row indexes are, and reset the index. You  also might find you need to assign the values of the first row to your column headings  . (Hint: recall the .columns feature of DataFrames, as well as the iloc[] method).\n",
    "\n",
    "Don't be afraid to use StackOverflow for help  with this."
   ]
  },
  {
   "cell_type": "code",
   "execution_count": 4,
   "metadata": {
    "colab": {},
    "colab_type": "code",
    "id": "cdAu1A3YoH_r"
   },
   "outputs": [],
   "source": [
    "# print(properties.index)\n",
    "# print(properties.reset_index(drop=True))\n",
    "# print(properties.sort_index())\n",
    "# properties.isna()\n",
    "properties.isna().any()\n",
    "properties.dropna(axis=1, how='all')\n",
    "properties = properties.iloc[1:]\n"
   ]
  },
  {
   "cell_type": "markdown",
   "metadata": {
    "colab_type": "text",
    "id": "o1uLbJAsoIjK"
   },
   "source": [
    "**2.3. Cleaning the data (part 2)**\n",
    "\n",
    "You might we have to **rename** a couple columns. How do you do this? The clue's pretty bold..."
   ]
  },
  {
   "cell_type": "code",
   "execution_count": 24,
   "metadata": {},
   "outputs": [
    {
     "name": "stdout",
     "output_type": "stream",
     "text": [
      "Index(['Date', 'City of London', 'Barking & Dagenham', 'Barnet', 'Bexley',\n",
      "       'Brent', 'Bromley', 'Camden', 'Croydon', 'Ealing', 'Enfield',\n",
      "       'Greenwich', 'Hackney', 'Hammersmith & Fulham', 'Haringey', 'Harrow',\n",
      "       'Havering', 'Hillingdon', 'Hounslow', 'Islington',\n",
      "       'Kensington & Chelsea', 'Kingston upon Thames', 'Lambeth', 'Lewisham',\n",
      "       'Merton', 'Newham', 'Redbridge', 'Richmond upon Thames', 'Southwark',\n",
      "       'Sutton', 'Tower Hamlets', 'Waltham Forest', 'Wandsworth',\n",
      "       'Westminster', 'Inner London', 'Outer London', 'NORTH EAST',\n",
      "       'NORTH WEST', 'YORKS & THE HUMBER', 'EAST MIDLANDS', 'WEST MIDLANDS',\n",
      "       'EAST OF ENGLAND', 'LONDON', 'SOUTH EAST', 'SOUTH WEST', 'England'],\n",
      "      dtype='object')\n"
     ]
    }
   ],
   "source": [
    "properties = properties.rename(columns={'Unnamed: 0': 'Date'})\n",
    "# print(properties.head())\n",
    "# properties = properties.drop(columns=['Unnamed: 47'])\n",
    "# null_values = properties.isnull()\n",
    "# print(null_values)\n",
    "# print(properties['Unnamed: 34'])\n",
    "# properties = properties.drop(columns=['Unnamed: 34'])\n",
    "# print(properties.columns)\n",
    "# properties = properties.drop(columns=['Unnamed: 37'])\n",
    "print(properties.columns)"
   ]
  },
  {
   "cell_type": "markdown",
   "metadata": {
    "colab_type": "text",
    "id": "jy8BzXHmoWEw"
   },
   "source": [
    "**2.4.Transforming the data**\n",
    "\n",
    "Remember what Wes McKinney said about tidy data? \n",
    "\n",
    "You might need to **melt** your DataFrame here. "
   ]
  },
  {
   "cell_type": "code",
   "execution_count": 77,
   "metadata": {
    "colab": {},
    "colab_type": "code",
    "id": "S2wM0qLuo2Zt"
   },
   "outputs": [
    {
     "name": "stdout",
     "output_type": "stream",
     "text": [
      "                  Borough    Month Average_Price\n",
      "0      Barking & Dagenham  1995-01    50460.2266\n",
      "1      Barking & Dagenham  1995-02   51085.77983\n",
      "2      Barking & Dagenham  1995-03   51268.96956\n",
      "3      Barking & Dagenham  1995-04   53133.50526\n",
      "4      Barking & Dagenham  1995-05   53042.24852\n",
      "...                   ...      ...           ...\n",
      "11446         Westminster  2023-07     1009532.0\n",
      "11447         Westminster  2023-08      972906.0\n",
      "11448         Westminster  2023-09      929560.0\n",
      "11449         Westminster  2023-10      934961.0\n",
      "11450         Westminster  2023-11      870963.0\n",
      "\n",
      "[11451 rows x 3 columns]\n"
     ]
    }
   ],
   "source": [
    "id_vars = ['Date']\n",
    "borough_columns = [col for col in properties.columns if col not in ['Date', 'England', 'SOUTH WEST']]\n",
    "properties_boroughs = properties[id_vars + borough_columns]\n",
    "columns_to_drop = ['Inner London', 'Outer London', 'NORTH EAST', 'NORTH WEST', 'YORKS & THE HUMBER', 'EAST MIDLANDS', 'WEST MIDLANDS', 'EAST OF ENGLAND', 'LONDON', 'SOUTH EAST', 'SOUTH WEST', 'England']\n",
    "properties_cleaned = properties_boroughs.drop(columns=columns_to_drop, errors='ignore')\n",
    "melted_properties = pd.melt(properties_cleaned, id_vars=id_vars, var_name='Borough', value_name='Average_Price')\n",
    "# print(melted_properties)\n",
    "melted_properties['Month'] = melted_properties['Date'].dt.to_period('M')\n",
    "average_price_by_borough_month = melted_properties.groupby(['Borough', 'Month'])['Average_Price'].mean().reset_index()\n",
    "print(average_price_by_borough_month)"
   ]
  },
  {
   "cell_type": "markdown",
   "metadata": {
    "colab_type": "text",
    "id": "7kIsgAo7o3mf"
   },
   "source": [
    "Remember to make sure your column data types are all correct. Average prices, for example, should be floating point numbers... "
   ]
  },
  {
   "cell_type": "code",
   "execution_count": 35,
   "metadata": {
    "colab": {},
    "colab_type": "code",
    "id": "ZcR4IHbcpOaq"
   },
   "outputs": [
    {
     "name": "stdout",
     "output_type": "stream",
     "text": [
      "            Date         Borough  Average_Price\n",
      "0     1995-01-01  City of London   9.144898e+04\n",
      "1     1995-02-01  City of London   8.220277e+04\n",
      "2     1995-03-01  City of London   7.912070e+04\n",
      "3     1995-04-01  City of London   7.710121e+04\n",
      "4     1995-05-01  City of London   8.440915e+04\n",
      "...          ...             ...            ...\n",
      "11446 2023-07-01     Westminster   1.009532e+06\n",
      "11447 2023-08-01     Westminster   9.729060e+05\n",
      "11448 2023-09-01     Westminster   9.295600e+05\n",
      "11449 2023-10-01     Westminster   9.349610e+05\n",
      "11450 2023-11-01     Westminster   8.709630e+05\n",
      "\n",
      "[11451 rows x 3 columns]\n"
     ]
    }
   ],
   "source": [
    "melted_properties['Average_Price'] = pd.to_numeric(melted_properties['Average_Price'], errors='coerce')\n",
    "print(melted_properties)"
   ]
  },
  {
   "cell_type": "markdown",
   "metadata": {
    "colab_type": "text",
    "id": "knLUXHLypOtw"
   },
   "source": [
    "**2.5. Cleaning the data (part 3)**\n",
    "\n",
    "Do we have an equal number of observations in the ID, Average Price, Month, and London Borough columns? Remember that there are only 32 London Boroughs. How many entries do you have in that column? \n",
    "\n",
    "Check out the contents of the London Borough column, and if you find null values, get rid of them however you see fit. "
   ]
  },
  {
   "cell_type": "code",
   "execution_count": 81,
   "metadata": {
    "colab": {},
    "colab_type": "code",
    "id": "BnvTW5a3p0fC"
   },
   "outputs": [
    {
     "name": "stdout",
     "output_type": "stream",
     "text": [
      "Overall Mean by Borough:\n",
      "                 Borough  Average_Price\n",
      "0     Barking & Dagenham  181978.523423\n",
      "1                 Barnet  339176.954613\n",
      "2                 Bexley  214000.724262\n",
      "3                  Brent  303564.316923\n",
      "4                Bromley  283366.920726\n",
      "5                 Camden  517763.147766\n",
      "6                Croydon  234736.254737\n",
      "7                 Ealing  305171.595316\n",
      "8                Enfield  250690.987758\n",
      "9              Greenwich  239588.355561\n",
      "10               Hackney  328060.620739\n",
      "11  Hammersmith & Fulham  484525.168467\n",
      "12              Haringey  331181.411088\n",
      "13                Harrow  298742.169796\n",
      "14              Havering  231048.471496\n",
      "15            Hillingdon  260217.954132\n",
      "16              Hounslow  262086.414196\n",
      "17             Islington  408529.891419\n",
      "18  Kensington & Chelsea  823416.582752\n",
      "19  Kingston upon Thames  313702.312565\n",
      "20               Lambeth  314001.410414\n",
      "21              Lewisham  246701.937211\n",
      "22                Merton  317234.327368\n",
      "23                Newham  222024.810067\n",
      "24             Redbridge  264407.470105\n",
      "25  Richmond upon Thames  427957.962363\n",
      "26             Southwark  308236.602004\n",
      "27                Sutton  242961.777351\n",
      "28         Tower Hamlets  284791.961587\n",
      "29        Waltham Forest  255245.424358\n",
      "30            Wandsworth  379144.835697\n",
      "31           Westminster  602067.622589\n",
      "\n",
      "Monthly Mean by Borough:\n",
      "                  Borough    Month  Average_Price\n",
      "0      Barking & Dagenham  1995-01   5.046023e+04\n",
      "1      Barking & Dagenham  1995-02   5.108578e+04\n",
      "2      Barking & Dagenham  1995-03   5.126897e+04\n",
      "3      Barking & Dagenham  1995-04   5.313351e+04\n",
      "4      Barking & Dagenham  1995-05   5.304225e+04\n",
      "...                   ...      ...            ...\n",
      "11099         Westminster  2023-07   1.009532e+06\n",
      "11100         Westminster  2023-08   9.729060e+05\n",
      "11101         Westminster  2023-09   9.295600e+05\n",
      "11102         Westminster  2023-10   9.349610e+05\n",
      "11103         Westminster  2023-11   8.709630e+05\n",
      "\n",
      "[11104 rows x 3 columns]\n"
     ]
    }
   ],
   "source": [
    "# print(melted_properties)\n",
    "# counts = melted_properties[['id', 'Average_Price', 'Date', 'Borough']].count()\n",
    "# print(counts)\n",
    "# print(melted_properties.dtypes)\n",
    "# print(properties.head())\n",
    "london_boroughs = ['Barking & Dagenham', 'Barnet', 'Bexley', 'Brent', 'Bromley', 'Camden', 'Croydon','Ealing', 'Enfield', 'Greenwich', 'Hackney', 'Hammersmith & Fulham', 'Haringey', 'Harrow', 'Havering','Hillingdon', 'Hounslow', 'Islington', 'Kensington & Chelsea', 'Kingston upon Thames', 'Lambeth','Lewisham', 'Merton', 'Newham', 'Redbridge', 'Richmond upon Thames', 'Southwark', 'Sutton','Tower Hamlets', 'Waltham Forest', 'Wandsworth', 'Westminster']\n",
    "# london_boroughs_df = melted_properties[melted_properties['Borough'].isin(london_boroughs)]\n",
    "# london_boroughs_df = london_boroughs_df.reset_index(drop=True)\n",
    "# print(london_boroughs_df)\n",
    "# print(london_boroughs_df.columns)\n",
    "london_boroughs_df = london_boroughs_df.loc[:, ~london_boroughs_df.columns.duplicated()]\n",
    "# print(london_boroughs_df)\n",
    "london_boroughs_df['Month'] = london_boroughs_df['Date'].dt.to_period('M')\n",
    "# print(london_boroughs_df.columns)\n",
    "average_price_by_borough = london_boroughs_df.groupby('Borough')['Average_Price'].mean().reset_index()\n",
    "average_price_by_borough_month = london_boroughs_df.groupby(['Borough', 'Month'])['Average_Price'].mean().reset_index()\n",
    "print(\"Overall Mean by Borough:\")\n",
    "print(average_price_by_borough)\n",
    "\n",
    "print(\"\\nMonthly Mean by Borough:\")\n",
    "print(average_price_by_borough_month)\n",
    "# num_boroughs = london_boroughs_df['Borough'].nunique()\n",
    "# print(\"Number of boroughs:\", num_boroughs)\n",
    "# unique_boroughs = london_boroughs_df['Borough'].unique()\n",
    "# print(unique_boroughs)"
   ]
  },
  {
   "cell_type": "markdown",
   "metadata": {
    "colab_type": "text",
    "id": "PGEx6mJsp6dG"
   },
   "source": [
    "**2.6. Visualizing the data**\n",
    "\n",
    "To visualize the data, why not subset on a particular London Borough? Maybe do a line plot of Month against Average Price?"
   ]
  },
  {
   "cell_type": "code",
   "execution_count": 85,
   "metadata": {
    "colab": {},
    "colab_type": "code",
    "id": "nAg5pT9cqHAR"
   },
   "outputs": [
    {
     "data": {
      "image/png": "[encoded data removed]",
      "text/plain": [
       "<Figure size 1000x600 with 1 Axes>"
      ]
     },
     "metadata": {},
     "output_type": "display_data"
    }
   ],
   "source": [
    "melted_properties['Month'] = melted_properties['Date'].dt.to_period('M')\n",
    "\n",
    "# Subset for 'Barking & Dagenham'\n",
    "barking_dagenham_df = melted_properties[melted_properties['Borough'] == 'Barking & Dagenham']\n",
    "\n",
    "# Group by 'Month' and calculate the mean\n",
    "monthly_mean_barking_dagenham = barking_dagenham_df.groupby('Month')['Average_Price'].mean().reset_index()\n",
    "\n",
    "# Convert 'Month' to string for plotting\n",
    "monthly_mean_barking_dagenham['Month'] = monthly_mean_barking_dagenham['Month'].astype(str)\n",
    "\n",
    "# Plotting\n",
    "plt.figure(figsize=(10, 6))\n",
    "plt.plot(monthly_mean_barking_dagenham['Month'], monthly_mean_barking_dagenham['Average_Price'], marker='o')\n",
    "plt.title('Monthly Mean House Price - Barking & Dagenham')\n",
    "plt.xlabel('Month')\n",
    "plt.ylabel('Average Price')\n",
    "plt.xticks(rotation=45)\n",
    "plt.tight_layout()\n",
    "plt.show()"
   ]
  },
  {
   "cell_type": "markdown",
   "metadata": {
    "colab_type": "text",
    "id": "aWTPqSJeqHnC"
   },
   "source": [
    "To limit the number of data points you have, you might want to extract the year from every month value your *Month* column. \n",
    "\n",
    "To this end, you *could* apply a ***lambda function***. Your logic could work as follows:\n",
    "1. look through the `Month` column\n",
    "2. extract the year from each individual value in that column \n",
    "3. store that corresponding year as separate column. \n",
    "\n",
    "Whether you go ahead with this is up to you. Just so long as you answer our initial brief: which boroughs of London have seen the greatest house price increase, on average, over the past two decades? "
   ]
  },
  {
   "cell_type": "code",
   "execution_count": 89,
   "metadata": {
    "colab": {},
    "colab_type": "code",
    "id": "e0DF92cyqnu8"
   },
   "outputs": [
    {
     "data": {
      "image/png": "[encoded data removed]",
      "text/plain": [
       "<Figure size 1000x600 with 1 Axes>"
      ]
     },
     "metadata": {},
     "output_type": "display_data"
    }
   ],
   "source": [
    "melted_properties['Month'] = melted_properties['Date'].dt.to_period('M')\n",
    "\n",
    "# Extract the year from the 'Month' column and store it in a new column 'Year'\n",
    "melted_properties['Year'] = melted_properties['Month'].apply(lambda x: x.year)\n",
    "\n",
    "# Subset for 'Barking & Dagenham'\n",
    "barking_dagenham_df = melted_properties[melted_properties['Borough'] == 'Barking & Dagenham']\n",
    "\n",
    "# Group by 'Year' and calculate the mean\n",
    "yearly_mean_barking_dagenham = barking_dagenham_df.groupby('Year')['Average_Price'].mean().reset_index()\n",
    "\n",
    "# Convert 'Year' to string for plotting\n",
    "yearly_mean_barking_dagenham['Year'] = yearly_mean_barking_dagenham['Year'].astype(str)\n",
    "\n",
    "# Plotting\n",
    "plt.figure(figsize=(10, 6))\n",
    "plt.plot(yearly_mean_barking_dagenham['Year'], yearly_mean_barking_dagenham['Average_Price'], marker='o')\n",
    "plt.title('Yearly Mean House Price - Barking & Dagenham')\n",
    "plt.xlabel('Year')\n",
    "plt.ylabel('Average Price')\n",
    "plt.xticks(rotation=45)\n",
    "plt.show()"
   ]
  },
  {
   "cell_type": "markdown",
   "metadata": {
    "colab_type": "text",
    "id": "2knuTxAEqoJ4"
   },
   "source": [
    "**3. Modeling**\n",
    "\n",
    "Consider creating a function that will calculate a ratio of house prices, comparing the price of a house in 2018 to the price in 1998.\n",
    "\n",
    "Consider calling this function create_price_ratio.\n",
    "\n",
    "You'd want this function to:\n",
    "1. Take a filter of dfg, specifically where this filter constrains the London_Borough, as an argument. For example, one admissible argument should be: dfg[dfg['London_Borough']=='Camden'].\n",
    "2. Get the Average Price for that Borough, for the years 1998 and 2018.\n",
    "4. Calculate the ratio of the Average Price for 1998 divided by the Average Price for 2018.\n",
    "5. Return that ratio.\n",
    "\n",
    "Once you've written this function, you ultimately want to use it to iterate through all the unique London_Boroughs and work out the ratio capturing the difference of house prices between 1998 and 2018.\n",
    "\n",
    "Bear in mind: you don't have to write a function like this if you don't want to. If you can solve the brief otherwise, then great! \n",
    "\n",
    "***Hint***: This section should test the skills you acquired in:\n",
    "- Python Data Science Toolbox - Part One, all modules"
   ]
  },
  {
   "cell_type": "code",
   "execution_count": 96,
   "metadata": {
    "colab": {},
    "colab_type": "code",
    "id": "cKTyr437UgDa"
   },
   "outputs": [
    {
     "name": "stdout",
     "output_type": "stream",
     "text": [
      "Hackney: 0.16133493530705734\n",
      "Waltham Forest: 0.17138677824394877\n",
      "Southwark: 0.18127484171283462\n",
      "Lewisham: 0.1835124676472171\n",
      "Westminster: 0.1867914047302468\n",
      "Newham: 0.18848754146121072\n",
      "Haringey: 0.19475619095546956\n",
      "Kensington & Chelsea: 0.19675491852791566\n",
      "Lambeth: 0.20170435486140822\n",
      "Camden: 0.20261973503252542\n",
      "Barking & Dagenham: 0.2042225623539368\n",
      "Brent: 0.2043086864360114\n",
      "Islington: 0.20643891170300288\n",
      "Greenwich: 0.20995010893854218\n",
      "Wandsworth: 0.21018518091593216\n",
      "Merton: 0.21091380604361798\n",
      "Tower Hamlets: 0.2161367227623553\n",
      "Redbridge: 0.2236545053715767\n",
      "Barnet: 0.229452741207858\n",
      "Havering: 0.23120155787014757\n",
      "Ealing: 0.23194048191708758\n",
      "Kingston upon Thames: 0.23416190234282552\n",
      "Enfield: 0.23455064269011858\n",
      "Bexley: 0.23535076540630112\n",
      "Croydon: 0.23803288028014052\n",
      "Hillingdon: 0.23807975835429931\n",
      "Hammersmith & Fulham: 0.24167443054605853\n",
      "Sutton: 0.24280551426824518\n",
      "Bromley: 0.24421308489837307\n",
      "Harrow: 0.24635417785626296\n",
      "Richmond upon Thames: 0.24967779731157863\n",
      "Hounslow: 0.25148317824115635\n"
     ]
    }
   ],
   "source": [
    "def create_price_ratio(london_boroughs_df, borough):\n",
    "    # Filter for the specified borough\n",
    "    borough_data = london_boroughs_df[london_boroughs_df['Borough'] == borough].copy()\n",
    "    borough_data.loc[:, 'Year'] = borough_data['Date'].dt.year\n",
    "    \n",
    "    # Extract average prices for the years 1998 and 2018\n",
    "    avg_price_1998 = borough_data[borough_data['Year'] == 1998]['Average_Price'].mean()\n",
    "    avg_price_2018 = borough_data[borough_data['Year'] == 2018]['Average_Price'].mean()\n",
    "    \n",
    "    # Check for missing values\n",
    "    if pd.isna(avg_price_1998) or pd.isna(avg_price_2018) or avg_price_2018 == 0:\n",
    "        return None\n",
    "    \n",
    "    # Calculate the ratio of Average Price for 1998 divided by 2018\n",
    "    ratio = avg_price_1998 / avg_price_2018\n",
    "    \n",
    "    return ratio\n",
    "\n",
    "ratios = {}\n",
    "\n",
    "# Iterate through all unique London Boroughs\n",
    "for borough in london_boroughs_df['Borough'].unique():\n",
    "    ratios[borough] = create_price_ratio(london_boroughs_df, borough)\n",
    "\n",
    "# ratios for each borough\n",
    "for borough, ratio in ratios.items():\n",
    "    # print(f\"{borough}: {ratio}\")\n",
    "    sorted_ratios = dict(sorted(ratios.items(), key=lambda item: item[1]))\n",
    "\n",
    "for borough, ratio in sorted_ratios.items():\n",
    "    print(f\"{borough}: {ratio}\")"
   ]
  },
  {
   "cell_type": "markdown",
   "metadata": {
    "colab_type": "text",
    "id": "NzYUI7FxJpgv"
   },
   "source": [
    "### 4. Conclusion\n",
    "What can you conclude? Type out your conclusion below. \n",
    "\n",
    "Look back at your notebook. Think about how you might summarize what you have done, and prepare a quick presentation on it to your mentor at your next meeting. \n",
    "\n",
    "We hope you enjoyed this practical project. It should have consolidated your data hygiene and pandas skills by looking at a real-world problem involving just the kind of dataset you might encounter as a budding data scientist. Congratulations, and looking forward to seeing you at the next step in the course! "
   ]
  },
  {
   "cell_type": "markdown",
   "metadata": {},
   "source": [
    "### My Conclusion\n",
    "Based on the ratio representation of average housig price changes between 1998 and 2018, each borough has gone up in housing value, with Hounslow leading the pack as having the greatest rise in housing prices. The borough with the least median raise in housing prices would be Hackley, which could show it is a less sought after borough in which to reside."
   ]
  },
  {
   "cell_type": "code",
   "execution_count": 114,
   "metadata": {},
   "outputs": [
    {
     "name": "stdout",
     "output_type": "stream",
     "text": [
      "Percentage of boroughs with negative mean percentage increase in 2019: 46.88%\n"
     ]
    }
   ],
   "source": [
    "london_boroughs_df['Annual_Percentage_Increase'] = london_boroughs_df.groupby('Borough')['Average_Price'].pct_change() * 100\n",
    "\n",
    "# Drop rows with NaN values resulting from the first row of each group\n",
    "london_boroughs_df = london_boroughs_df.dropna()\n",
    "\n",
    "# Display the DataFrame\n",
    "# print(london_boroughs_df)\n",
    "london_boroughs_df['Date'] = pd.to_datetime(london_boroughs_df['Date'])\n",
    "\n",
    "# Add a 'Year' column\n",
    "london_boroughs_df['Year'] = london_boroughs_df['Date'].dt.year\n",
    "\n",
    "# Function to calculate the annual percentage increase\n",
    "def calculate_annual_percentage_increase(df, borough):\n",
    "    # Filter for the specified borough\n",
    "    borough_data = df[df['Borough'] == borough]\n",
    "\n",
    "    # Sort data by year\n",
    "    borough_data = borough_data.sort_values('Year')\n",
    "\n",
    "    # Calculate annual percentage increase\n",
    "    borough_data['Annual_Percentage_Increase'] = borough_data['Average_Price'].pct_change() * 100\n",
    "\n",
    "    # Filter data from 2019 onwards\n",
    "    borough_data = borough_data[borough_data['Year'] >= 2019]\n",
    "\n",
    "    return borough_data\n",
    "\n",
    "# Calculate annual percentage increase for each borough from 2019\n",
    "boroughs_data_2019 = {}\n",
    "for borough in london_boroughs_df['Borough'].unique():\n",
    "    boroughs_data_2019[borough] = calculate_annual_percentage_increase(london_boroughs_df, borough)\n",
    "\n",
    "# Display results for each borough\n",
    "for borough, data in boroughs_data_2019.items():\n",
    "#    print(f\"\\n{borough}\\n{data[['Year', 'Annual_Percentage_Increase']]}\")\n",
    "\n",
    "# Filter for the year 2019\n",
    "    df_2019 = london_boroughs_df[london_boroughs_df['Year'] == 2019]\n",
    "\n",
    "# Group by borough and calculate the mean annual percentage increase\n",
    "mean_percentage_by_borough = df_2019.groupby('Borough')['Annual_Percentage_Increase'].mean()\n",
    "\n",
    "# percentage of boroughs with negative mean percentage increase\n",
    "percentage_negative = (mean_percentage_by_borough < 0).mean() * 100\n",
    "\n",
    "print(f\"Percentage of boroughs with negative mean percentage increase in 2019: {percentage_negative:.2f}%\")\n",
    "\n"
   ]
  }
 ],
 "metadata": {
  "colab": {
   "collapsed_sections": [],
   "name": "Springboard Data Science Career Track Unit 4 Challenge - Tier 3 Complete .ipynb",
   "provenance": []
  },
  "kernelspec": {
   "display_name": "Python 3 (ipykernel)",
   "language": "python",
   "name": "python3"
  },
  "language_info": {
   "codemirror_mode": {
    "name": "ipython",
    "version": 3
   },
   "file_extension": ".py",
   "mimetype": "text/x-python",
   "name": "python",
   "nbconvert_exporter": "python",
   "pygments_lexer": "ipython3",
   "version": "3.11.5"
  }
 },
 "nbformat": 4,
 "nbformat_minor": 1
}
